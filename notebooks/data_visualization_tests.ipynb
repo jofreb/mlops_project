{
 "cells": [
  {
   "cell_type": "code",
   "execution_count": 1,
   "metadata": {},
   "outputs": [],
   "source": [
    "import polars as pl\n",
    "from pathlib import Path\n",
    "\n",
    "# Define _PATH_DATA variable\n",
    "_PATH_DATA = \"/home/edgar/MLOps/mlops_project/data/processed\""
   ]
  },
  {
   "cell_type": "code",
   "execution_count": 2,
   "metadata": {},
   "outputs": [],
   "source": [
    "path_data = Path(_PATH_DATA)\n",
    "train = pl.read_parquet(path_data.joinpath(\"train.parquet\"))\n",
    "test = pl.read_parquet(path_data.joinpath(\"test.parquet\"))\n",
    "validation = pl.read_parquet(path_data.joinpath(\"validation.parquet\"))"
   ]
  },
  {
   "cell_type": "code",
   "execution_count": 6,
   "metadata": {},
   "outputs": [
    {
     "name": "stdout",
     "output_type": "stream",
     "text": [
      "Train samples:  3513\n",
      "Test samples:  2466\n",
      "Validation samples:  765\n"
     ]
    }
   ],
   "source": [
    "# print train, test, validation\n",
    "print(\"Train samples: \", len(train))\n",
    "print(\"Test samples: \", len(test))\n",
    "print(\"Validation samples: \", len(validation))"
   ]
  },
  {
   "cell_type": "code",
   "execution_count": 24,
   "metadata": {},
   "outputs": [
    {
     "name": "stdout",
     "output_type": "stream",
     "text": [
      "Train shape:  (1, 6)\n",
      "['user_id', 'article_id_fixed', 'article_ids_inview', 'article_ids_clicked', 'impression_id', 'labels']\n",
      "(1, 6)\n",
      "['user_id', 'article_id_fixed', 'article_ids_inview', 'article_ids_clicked', 'impression_id', 'labels']\n",
      "(1, 6)\n",
      "['user_id', 'article_id_fixed', 'article_ids_inview', 'article_ids_clicked', 'impression_id', 'labels']\n",
      "(1, 6)\n"
     ]
    }
   ],
   "source": [
    "# print train, test, validation shape\n",
    "print(\"Train shape: \", train[0].shape)\n",
    "for dataset in [train, test, validation]:\n",
    "    for sample in range(len(dataset)):\n",
    "        print(dataset[sample].columns)\n",
    "        print(dataset[sample].shape)\n",
    "        break"
   ]
  },
  {
   "cell_type": "code",
   "execution_count": 18,
   "metadata": {},
   "outputs": [
    {
     "name": "stdout",
     "output_type": "stream",
     "text": [
      "Train missing values:  0\n",
      "Test missing values:  0\n",
      "Validation missing values:  0\n"
     ]
    }
   ],
   "source": [
    "# check for missing values in train, test, validation\n",
    "print(\"Train missing values: \", train.null_count().sum_horizontal()[0])\n",
    "print(\"Test missing values: \", test.null_count().sum_horizontal()[0])\n",
    "print(\"Validation missing values: \", validation.null_count().sum_horizontal()[0])"
   ]
  },
  {
   "cell_type": "code",
   "execution_count": 9,
   "metadata": {},
   "outputs": [
    {
     "name": "stdout",
     "output_type": "stream",
     "text": [
      "<class 'polars.dataframe.frame.DataFrame'>\n"
     ]
    }
   ],
   "source": [
    "print(type(train))"
   ]
  }
 ],
 "metadata": {
  "kernelspec": {
   "display_name": "venv",
   "language": "python",
   "name": "python3"
  },
  "language_info": {
   "codemirror_mode": {
    "name": "ipython",
    "version": 3
   },
   "file_extension": ".py",
   "mimetype": "text/x-python",
   "name": "python",
   "nbconvert_exporter": "python",
   "pygments_lexer": "ipython3",
   "version": "3.11.11"
  }
 },
 "nbformat": 4,
 "nbformat_minor": 2
}
